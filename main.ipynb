{
 "cells": [
  {
   "cell_type": "markdown",
   "id": "c825a86f",
   "metadata": {},
   "source": [
    "# CIFAR10"
   ]
  },
  {
   "cell_type": "code",
   "execution_count": 1,
   "id": "1169a53d",
   "metadata": {},
   "outputs": [],
   "source": [
    "import torch.nn as nn\n",
    "import torch.optim as optim\n",
    "from torchvision import transforms\n",
    "import matplotlib.pyplot as plt\n",
    "\n",
    "from src.data import CIFAR10\n",
    "from src.models import CNN\n",
    "from src.training.config import TrainingConfig\n",
    "from src.training import ModelTrainer"
   ]
  },
  {
   "cell_type": "code",
   "execution_count": 2,
   "id": "c032d9b8",
   "metadata": {},
   "outputs": [],
   "source": [
    "training_config = TrainingConfig(batch_size=100, lr=0.001)"
   ]
  },
  {
   "cell_type": "code",
   "execution_count": 3,
   "id": "ab9f2fea",
   "metadata": {},
   "outputs": [],
   "source": [
    "training_transform = transforms.Compose([\n",
    "    transforms.Resize((32,32)),\n",
    "    transforms.RandomHorizontalFlip(),\n",
    "    transforms.RandomRotation(degrees=10),\n",
    "    transforms.RandomAffine(degrees=0, shear=10, scale=(0.8, 1.2)),\n",
    "    transforms.ColorJitter(brightness=0.2, contrast=0.2, saturation=0.2),\n",
    "    transforms.ToTensor(),\n",
    "    transforms.Normalize((0.4914, 0.4822, 0.4465), (0.2023, 0.1994, 0.2010))\n",
    "])\n",
    "\n",
    "validation_transform = transforms.Compose([\n",
    "    transforms.Resize((32,32)),\n",
    "    transforms.ToTensor(),\n",
    "    transforms.Normalize((0.4914, 0.4822, 0.4465), (0.2023, 0.1994, 0.2010))\n",
    "])"
   ]
  },
  {
   "cell_type": "code",
   "execution_count": 4,
   "id": "8a6a22fe",
   "metadata": {},
   "outputs": [
    {
     "name": "stdout",
     "output_type": "stream",
     "text": [
      "Files already downloaded and verified\n",
      "Files already downloaded and verified\n"
     ]
    }
   ],
   "source": [
    "training_data = CIFAR10(train=True, root='./data', transform=training_transform)\n",
    "testing_data = CIFAR10(train=False, root='./data', transform=validation_transform)"
   ]
  },
  {
   "cell_type": "code",
   "execution_count": 5,
   "id": "3d9f867e",
   "metadata": {},
   "outputs": [
    {
     "data": {
      "text/plain": [
       "(50000, 10000)"
      ]
     },
     "execution_count": 5,
     "metadata": {},
     "output_type": "execute_result"
    }
   ],
   "source": [
    "len(training_data), len(testing_data)"
   ]
  },
  {
   "cell_type": "code",
   "execution_count": 6,
   "id": "fe2f3fc8",
   "metadata": {},
   "outputs": [],
   "source": [
    "model = CNN()"
   ]
  },
  {
   "cell_type": "code",
   "execution_count": 7,
   "id": "38f05849",
   "metadata": {},
   "outputs": [
    {
     "data": {
      "text/plain": [
       "CNN(\n",
       "  (network): Sequential(\n",
       "    (0): Conv2d(3, 32, kernel_size=(3, 3), stride=(1, 1), padding=(1, 1))\n",
       "    (1): BatchNorm2d(32, eps=1e-05, momentum=0.1, affine=True, track_running_stats=True)\n",
       "    (2): ReLU()\n",
       "    (3): Conv2d(32, 64, kernel_size=(3, 3), stride=(1, 1), padding=(1, 1))\n",
       "    (4): ReLU()\n",
       "    (5): MaxPool2d(kernel_size=(2, 2), stride=(2, 2), padding=0, dilation=1, ceil_mode=False)\n",
       "    (6): Conv2d(64, 128, kernel_size=(3, 3), stride=(1, 1), padding=(1, 1))\n",
       "    (7): BatchNorm2d(128, eps=1e-05, momentum=0.1, affine=True, track_running_stats=True)\n",
       "    (8): ReLU()\n",
       "    (9): Conv2d(128, 128, kernel_size=(3, 3), stride=(1, 1), padding=(1, 1))\n",
       "    (10): ReLU()\n",
       "    (11): MaxPool2d(kernel_size=(2, 2), stride=(2, 2), padding=0, dilation=1, ceil_mode=False)\n",
       "    (12): Dropout2d(p=0.05, inplace=False)\n",
       "    (13): Conv2d(128, 256, kernel_size=(3, 3), stride=(1, 1), padding=(1, 1))\n",
       "    (14): BatchNorm2d(256, eps=1e-05, momentum=0.1, affine=True, track_running_stats=True)\n",
       "    (15): ReLU()\n",
       "    (16): Conv2d(256, 256, kernel_size=(3, 3), stride=(1, 1), padding=(1, 1))\n",
       "    (17): ReLU()\n",
       "    (18): MaxPool2d(kernel_size=(2, 2), stride=(2, 2), padding=0, dilation=1, ceil_mode=False)\n",
       "    (19): Flatten(start_dim=1, end_dim=-1)\n",
       "    (20): Linear(in_features=4096, out_features=1024, bias=True)\n",
       "    (21): ReLU()\n",
       "    (22): Dropout(p=0.1, inplace=False)\n",
       "    (23): Linear(in_features=1024, out_features=512, bias=True)\n",
       "    (24): ReLU()\n",
       "    (25): Dropout(p=0.1, inplace=False)\n",
       "    (26): Linear(in_features=512, out_features=10, bias=True)\n",
       "  )\n",
       ")"
      ]
     },
     "execution_count": 7,
     "metadata": {},
     "output_type": "execute_result"
    }
   ],
   "source": [
    "model"
   ]
  },
  {
   "cell_type": "code",
   "execution_count": 8,
   "id": "4963eec5",
   "metadata": {},
   "outputs": [
    {
     "name": "stdout",
     "output_type": "stream",
     "text": [
      "using NVIDIA GeForce GTX 1060\n"
     ]
    }
   ],
   "source": [
    "model_trainer = ModelTrainer(\n",
    "    model,\n",
    "    optim.Adam,\n",
    "    nn.CrossEntropyLoss(),\n",
    "    training_config,\n",
    "    training_data,\n",
    "    cuda=True,\n",
    "    validation_data=testing_data\n",
    ")"
   ]
  },
  {
   "cell_type": "code",
   "execution_count": 9,
   "id": "9941afff",
   "metadata": {
    "scrolled": false
   },
   "outputs": [
    {
     "name": "stderr",
     "output_type": "stream",
     "text": [
      "C:\\Users\\raghu\\anaconda3\\envs\\CV\\lib\\site-packages\\torch\\nn\\functional.py:718: UserWarning: Named tensors and all their associated APIs are an experimental feature and subject to change. Please do not use them for anything important until they are released as stable. (Triggered internally at  ..\\c10/core/TensorImpl.h:1156.)\n",
      "  return torch.max_pool2d(input, kernel_size, stride, padding, dilation, ceil_mode)\n"
     ]
    },
    {
     "name": "stdout",
     "output_type": "stream",
     "text": [
      "\u001b[36mtraining metrics:   epoch: 0            loss: 1.5784082419872283      accuracy: 41.126              \n",
      "\u001b[33mtesting metrics:    epoch: 0            loss: 1.3292375528812408      accuracy: 50.41               \n",
      "\u001b[36mtraining metrics:   epoch: 1            loss: 1.212923968911171       accuracy: 56.058              \n",
      "\u001b[33mtesting metrics:    epoch: 1            loss: 1.0316443246603013      accuracy: 62.43               \n",
      "\u001b[36mtraining metrics:   epoch: 2            loss: 1.0380217546224595      accuracy: 63.062              \n",
      "\u001b[33mtesting metrics:    epoch: 2            loss: 0.9110818833112717      accuracy: 67.71               \n",
      "\u001b[36mtraining metrics:   epoch: 3            loss: 0.928508181810379       accuracy: 67.266              \n",
      "\u001b[33mtesting metrics:    epoch: 3            loss: 0.8383302247524261      accuracy: 70.7                \n",
      "\u001b[36mtraining metrics:   epoch: 4            loss: 0.8570786463022232      accuracy: 69.978              \n",
      "\u001b[33mtesting metrics:    epoch: 4            loss: 0.7804780745506287      accuracy: 72.76               \n",
      "\u001b[36mtraining metrics:   epoch: 5            loss: 0.799028912127018       accuracy: 71.902              \n",
      "\u001b[33mtesting metrics:    epoch: 5            loss: 0.6994685316085816      accuracy: 75.48               \n",
      "\u001b[36mtraining metrics:   epoch: 6            loss: 0.75893344694376        accuracy: 73.444              \n",
      "\u001b[33mtesting metrics:    epoch: 6            loss: 0.6888621127605439      accuracy: 76.29               \n",
      "\u001b[36mtraining metrics:   epoch: 7            loss: 0.7257878994941711      accuracy: 74.65               \n",
      "\u001b[33mtesting metrics:    epoch: 7            loss: 0.6369567197561264      accuracy: 78.59               \n",
      "\u001b[36mtraining metrics:   epoch: 8            loss: 0.6925451025366783      accuracy: 75.794              \n",
      "\u001b[33mtesting metrics:    epoch: 8            loss: 0.627204647064209       accuracy: 78.58               \n",
      "\u001b[36mtraining metrics:   epoch: 9            loss: 0.6619128522276878      accuracy: 76.982              \n",
      "\u001b[33mtesting metrics:    epoch: 9            loss: 0.6235260540246963      accuracy: 78.67               \n",
      "\u001b[36mtraining metrics:   epoch: 10           loss: 0.64592421656847        accuracy: 77.49               \n",
      "\u001b[33mtesting metrics:    epoch: 10           loss: 0.6201305136084556      accuracy: 78.97               \n",
      "\u001b[36mtraining metrics:   epoch: 11           loss: 0.619891868174076       accuracy: 78.46               \n",
      "\u001b[33mtesting metrics:    epoch: 11           loss: 0.5919953605532646      accuracy: 79.93               \n",
      "\u001b[36mtraining metrics:   epoch: 12           loss: 0.606470261335373       accuracy: 78.89               \n",
      "\u001b[33mtesting metrics:    epoch: 12           loss: 0.5808182695508003      accuracy: 80.2                \n",
      "\u001b[36mtraining metrics:   epoch: 13           loss: 0.5923363217115403      accuracy: 79.284              \n",
      "\u001b[33mtesting metrics:    epoch: 13           loss: 0.580881395637989       accuracy: 80.73               \n",
      "\u001b[36mtraining metrics:   epoch: 14           loss: 0.5774972190260887      accuracy: 79.994              \n",
      "\u001b[33mtesting metrics:    epoch: 14           loss: 0.5523303392529487      accuracy: 81.52               \n",
      "\u001b[36mtraining metrics:   epoch: 15           loss: 0.5560871375799179      accuracy: 80.676              \n",
      "\u001b[33mtesting metrics:    epoch: 15           loss: 0.5432409384846687      accuracy: 82.21               \n",
      "\u001b[36mtraining metrics:   epoch: 16           loss: 0.5467971447706222      accuracy: 81.246              \n",
      "\u001b[33mtesting metrics:    epoch: 16           loss: 0.5461860287189484      accuracy: 81.84               \n",
      "\u001b[36mtraining metrics:   epoch: 17           loss: 0.5363432710766792      accuracy: 81.37               \n",
      "\u001b[33mtesting metrics:    epoch: 17           loss: 0.5380523410439492      accuracy: 82.16               \n",
      "\u001b[36mtraining metrics:   epoch: 18           loss: 0.5253701380491257      accuracy: 81.926              \n",
      "\u001b[33mtesting metrics:    epoch: 18           loss: 0.5359798032045364      accuracy: 82.35               \n",
      "\u001b[36mtraining metrics:   epoch: 19           loss: 0.5107552931308746      accuracy: 82.294              \n",
      "\u001b[33mtesting metrics:    epoch: 19           loss: 0.5203717079758644      accuracy: 82.65               \n"
     ]
    }
   ],
   "source": [
    "training_metrics, testing_metrics = model_trainer.train(20, True)"
   ]
  },
  {
   "cell_type": "code",
   "execution_count": 10,
   "id": "9c2aac06",
   "metadata": {},
   "outputs": [
    {
     "data": {
      "text/plain": [
       "<matplotlib.legend.Legend at 0x2f49550bd60>"
      ]
     },
     "execution_count": 10,
     "metadata": {},
     "output_type": "execute_result"
    },
    {
     "data": {
      "image/png": "[encoded data removed]",
      "text/plain": [
       "<Figure size 432x288 with 1 Axes>"
      ]
     },
     "metadata": {},
     "output_type": "display_data"
    }
   ],
   "source": [
    "plt.figure(facecolor='white')\n",
    "plt.plot(training_metrics.losses, label='training loss')\n",
    "plt.plot(testing_metrics.losses, label='testing loss')\n",
    "plt.grid()\n",
    "plt.legend()"
   ]
  },
  {
   "cell_type": "code",
   "execution_count": 11,
   "id": "516f5b8d",
   "metadata": {},
   "outputs": [
    {
     "data": {
      "text/plain": [
       "<matplotlib.legend.Legend at 0x2f48836bc40>"
      ]
     },
     "execution_count": 11,
     "metadata": {},
     "output_type": "execute_result"
    },
    {
     "data": {
      "image/png": "[encoded data removed]",
      "text/plain": [
       "<Figure size 432x288 with 1 Axes>"
      ]
     },
     "metadata": {},
     "output_type": "display_data"
    }
   ],
   "source": [
    "plt.figure(facecolor='white')\n",
    "plt.plot(training_metrics.accuracies, label='training accuracy')\n",
    "plt.plot(testing_metrics.accuracies, label='testing accuracy')\n",
    "plt.grid()\n",
    "plt.legend()"
   ]
  },
  {
   "cell_type": "code",
   "execution_count": null,
   "id": "845e0a96",
   "metadata": {},
   "outputs": [],
   "source": []
  }
 ],
 "metadata": {
  "kernelspec": {
   "display_name": "Python 3 (ipykernel)",
   "language": "python",
   "name": "python3"
  },
  "language_info": {
   "codemirror_mode": {
    "name": "ipython",
    "version": 3
   },
   "file_extension": ".py",
   "mimetype": "text/x-python",
   "name": "python",
   "nbconvert_exporter": "python",
   "pygments_lexer": "ipython3",
   "version": "3.9.6"
  }
 },
 "nbformat": 4,
 "nbformat_minor": 5
}
