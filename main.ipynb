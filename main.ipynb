{
 "cells": [
  {
   "cell_type": "code",
   "execution_count": 1,
   "id": "67b4c16b",
   "metadata": {},
   "outputs": [],
   "source": [
    "import torch.nn as nn\n",
    "import torch.optim as optim\n",
    "from torchvision import transforms\n",
    "\n",
    "from src.data import CIFAR10\n",
    "from src.models import LeNet\n",
    "from src.training.config import TrainingConfig\n",
    "from src.training import ModelTrainer\n",
    "import matplotlib.pyplot as plt"
   ]
  },
  {
   "cell_type": "code",
   "execution_count": 2,
   "id": "7fdba8ce",
   "metadata": {},
   "outputs": [],
   "source": [
    "training_config = TrainingConfig(batch_size=100, lr=0.0001)"
   ]
  },
  {
   "cell_type": "code",
   "execution_count": 3,
   "id": "1d3c3e1b",
   "metadata": {},
   "outputs": [],
   "source": [
    "model = LeNet()"
   ]
  },
  {
   "cell_type": "code",
   "execution_count": 4,
   "id": "dc81ace6",
   "metadata": {},
   "outputs": [],
   "source": [
    "transform = transforms.Compose([\n",
    "    transforms.Resize((32,32)),\n",
    "    transforms.ToTensor(),\n",
    "    transforms.Normalize((0.5,), (0.5,))\n",
    "])"
   ]
  },
  {
   "cell_type": "code",
   "execution_count": null,
   "id": "e80cfd10",
   "metadata": {},
   "outputs": [
    {
     "name": "stdout",
     "output_type": "stream",
     "text": [
      "Downloading https://www.cs.toronto.edu/~kriz/cifar-10-python.tar.gz to ./data\\cifar-10-python.tar.gz\n"
     ]
    },
    {
     "name": "stderr",
     "output_type": "stream",
     "text": [
      "82.4%"
     ]
    }
   ],
   "source": [
    "training_data = CIFAR10(train=True, root='./data', transform=transform)\n",
    "testing_data = CIFAR10(train=False, root='./data', transform=transform)"
   ]
  },
  {
   "cell_type": "code",
   "execution_count": null,
   "id": "ceeb877a",
   "metadata": {},
   "outputs": [],
   "source": [
    "len(training_data), len(testing_data)"
   ]
  },
  {
   "cell_type": "code",
   "execution_count": null,
   "id": "d2cf77b0",
   "metadata": {},
   "outputs": [],
   "source": [
    "model_trainer = ModelTrainer(\n",
    "    model,\n",
    "    optim.Adam,\n",
    "    nn.CrossEntropyLoss(),\n",
    "    training_config,\n",
    "    training_data,\n",
    "    cuda=True,\n",
    "    validation_data=testing_data\n",
    ")"
   ]
  },
  {
   "cell_type": "code",
   "execution_count": null,
   "id": "462f1ef3",
   "metadata": {},
   "outputs": [],
   "source": [
    "training_metrics, testing_metrics = model_trainer.train(10, True)"
   ]
  },
  {
   "cell_type": "code",
   "execution_count": null,
   "id": "88a639da",
   "metadata": {},
   "outputs": [],
   "source": [
    "plt.plot(training_metrics.losses, label='training loss')\n",
    "plt.plot(testing_metrics.losses, label='testing loss')\n",
    "plt.grid()\n",
    "plt.legend()"
   ]
  },
  {
   "cell_type": "code",
   "execution_count": null,
   "id": "4b749a9d",
   "metadata": {},
   "outputs": [],
   "source": [
    "plt.plot(training_metrics.accuracies, label='training accuracy')\n",
    "plt.plot(testing_metrics.accuracies, label='testing accuracy')\n",
    "plt.grid()\n",
    "plt.legend()"
   ]
  },
  {
   "cell_type": "code",
   "execution_count": null,
   "id": "3f41d916",
   "metadata": {},
   "outputs": [],
   "source": []
  }
 ],
 "metadata": {
  "kernelspec": {
   "display_name": "Python 3 (ipykernel)",
   "language": "python",
   "name": "python3"
  },
  "language_info": {
   "codemirror_mode": {
    "name": "ipython",
    "version": 3
   },
   "file_extension": ".py",
   "mimetype": "text/x-python",
   "name": "python",
   "nbconvert_exporter": "python",
   "pygments_lexer": "ipython3",
   "version": "3.9.6"
  }
 },
 "nbformat": 4,
 "nbformat_minor": 5
}
